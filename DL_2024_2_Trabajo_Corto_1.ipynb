{
 "cells": [
  {
   "cell_type": "markdown",
   "metadata": {
    "id": "Y5zYLAE8LTvr"
   },
   "source": [
    "**Instituto Tecnológico de Costa Rica**\n",
    "\n",
    "**Escuela de Ingeniería en Computación**\n",
    "\n",
    "**Maestría Académica en Ciencias de la Computación**\n",
    "\n",
    "**Curso: Electiva Deep Learning**\n",
    "\n",
    "**Segundo Semestre 2024**\n",
    "\n",
    "**Profesor: Dr. Luis-Alexander Calvo-Valverde**\n",
    "\n",
    "---\n",
    "\n",
    "**Trabajo Práctico:** 1\n",
    "\n",
    "**Datos de la entrega:** Jueves 26 de setiembre 2024, a más tardar a las 6:00 pm\n",
    "\n",
    "**Medio de entrega**: Por medio del TEC-Digital.\n",
    "\n",
    "**Entregables**: Un archivo jupyter ( .IPYNB ) y todos los archivos adiconales que se requieran para correr su Cuaderno (En un archivo comprimido). En caso de requerir mucho espacio, solicitarle al profesor una carpeta en One-Drive para subir la solución.\n",
    "\n",
    "---\n",
    "\n",
    "**Estudiantes:**\n",
    "- Estudiante 1\n",
    "- Estudiante 2\n",
    "\n"
   ]
  },
  {
   "cell_type": "markdown",
   "metadata": {
    "id": "oX78-S93V9nF"
   },
   "source": [
    "## Leer esto primero.\n",
    "\n",
    "1. Usted puede cambiar el dataset que se le proporciona por otro  que sea de su interés; pero de hacerlo, se le recomienda valorarlo con el profesor para que su dataset propuesto no le agregue una complicación importante al Trabajo Práctico.\n",
    "\n",
    "1. En caso de que el diseño experimental supere en mucho la capacidad de procesamiento computacional que puede conseguir, se le recomienda hablar con el profesor para valorar opciones como disminuir el tamaño del dataset.\n",
    "\n",
    "## Indicaciones generales que deben seguir:\n",
    "\n",
    "1. Se le proporciona el conjunto de datos y una hoja electrónica con detalles del dataset.\n",
    "\n",
    "1. Realizarán clasificación y el atributo a predecir es: **melanocytic**.\n",
    "\n",
    "1. Ustedes deben ir tomando las decisiones en el proceso y documentarlas en celdas de texto y además su código debe venir ampliamente comentado.\n",
    "\n",
    "1. Se dividirá el dataset en tres conjuntos de datos: train (60%), validation (20%) y test (20%).\n",
    "\n",
    "1. Ustedes proponen el diseño experimental (quiero ver qué han entendido de este concepto fundamental)."
   ]
  },
  {
   "cell_type": "markdown",
   "metadata": {
    "id": "A17T3XC20gvf"
   },
   "source": [
    "# Parte 1.  Experimentación con capas totalmente conectadas y un selector de hiperparámetros\n",
    "\n",
    "1. Debe proponer una red neuronal artificial que solo incluya capas totalmente conectadas. Para la selección de hiperparámetros debe utilizar una herramienta especializada para esto (como keras tunner).\n",
    "\n",
    "\n",
    "\n",
    "\n"
   ]
  },
  {
   "cell_type": "code",
   "execution_count": 6,
   "metadata": {
    "id": "puRyxgoGycZ9"
   },
   "outputs": [
    {
     "data": {
      "text/html": [
       "<div>\n",
       "<style scoped>\n",
       "    .dataframe tbody tr th:only-of-type {\n",
       "        vertical-align: middle;\n",
       "    }\n",
       "\n",
       "    .dataframe tbody tr th {\n",
       "        vertical-align: top;\n",
       "    }\n",
       "\n",
       "    .dataframe thead th {\n",
       "        text-align: right;\n",
       "    }\n",
       "</style>\n",
       "<table border=\"1\" class=\"dataframe\">\n",
       "  <thead>\n",
       "    <tr style=\"text-align: right;\">\n",
       "      <th></th>\n",
       "      <th>isic_id</th>\n",
       "      <th>attribution</th>\n",
       "      <th>copyright_license</th>\n",
       "      <th>age_approx</th>\n",
       "      <th>anatom_site_general</th>\n",
       "      <th>benign_malignant</th>\n",
       "      <th>concomitant_biopsy</th>\n",
       "      <th>diagnosis</th>\n",
       "      <th>diagnosis_confirm_type</th>\n",
       "      <th>image_type</th>\n",
       "      <th>lesion_id</th>\n",
       "      <th>melanocytic</th>\n",
       "      <th>sex</th>\n",
       "    </tr>\n",
       "  </thead>\n",
       "  <tbody>\n",
       "    <tr>\n",
       "      <th>0</th>\n",
       "      <td>ISIC_0024306</td>\n",
       "      <td>ViDIR Group, Department of Dermatology, Medica...</td>\n",
       "      <td>CC-BY-NC</td>\n",
       "      <td>45.0</td>\n",
       "      <td>NaN</td>\n",
       "      <td>benign</td>\n",
       "      <td>False</td>\n",
       "      <td>nevus</td>\n",
       "      <td>serial imaging showing no change</td>\n",
       "      <td>dermoscopic</td>\n",
       "      <td>IL_7252831</td>\n",
       "      <td>True</td>\n",
       "      <td>male</td>\n",
       "    </tr>\n",
       "    <tr>\n",
       "      <th>1</th>\n",
       "      <td>ISIC_0024307</td>\n",
       "      <td>ViDIR Group, Department of Dermatology, Medica...</td>\n",
       "      <td>CC-BY-NC</td>\n",
       "      <td>50.0</td>\n",
       "      <td>lower extremity</td>\n",
       "      <td>benign</td>\n",
       "      <td>False</td>\n",
       "      <td>nevus</td>\n",
       "      <td>serial imaging showing no change</td>\n",
       "      <td>dermoscopic</td>\n",
       "      <td>IL_6125741</td>\n",
       "      <td>True</td>\n",
       "      <td>male</td>\n",
       "    </tr>\n",
       "    <tr>\n",
       "      <th>2</th>\n",
       "      <td>ISIC_0024308</td>\n",
       "      <td>ViDIR Group, Department of Dermatology, Medica...</td>\n",
       "      <td>CC-BY-NC</td>\n",
       "      <td>55.0</td>\n",
       "      <td>NaN</td>\n",
       "      <td>benign</td>\n",
       "      <td>False</td>\n",
       "      <td>nevus</td>\n",
       "      <td>serial imaging showing no change</td>\n",
       "      <td>dermoscopic</td>\n",
       "      <td>IL_3692653</td>\n",
       "      <td>True</td>\n",
       "      <td>female</td>\n",
       "    </tr>\n",
       "    <tr>\n",
       "      <th>3</th>\n",
       "      <td>ISIC_0024309</td>\n",
       "      <td>ViDIR Group, Department of Dermatology, Medica...</td>\n",
       "      <td>CC-BY-NC</td>\n",
       "      <td>40.0</td>\n",
       "      <td>NaN</td>\n",
       "      <td>benign</td>\n",
       "      <td>False</td>\n",
       "      <td>nevus</td>\n",
       "      <td>serial imaging showing no change</td>\n",
       "      <td>dermoscopic</td>\n",
       "      <td>IL_0959663</td>\n",
       "      <td>True</td>\n",
       "      <td>male</td>\n",
       "    </tr>\n",
       "    <tr>\n",
       "      <th>4</th>\n",
       "      <td>ISIC_0024310</td>\n",
       "      <td>ViDIR Group, Department of Dermatology, Medica...</td>\n",
       "      <td>CC-BY-NC</td>\n",
       "      <td>60.0</td>\n",
       "      <td>anterior torso</td>\n",
       "      <td>malignant</td>\n",
       "      <td>True</td>\n",
       "      <td>melanoma</td>\n",
       "      <td>histopathology</td>\n",
       "      <td>dermoscopic</td>\n",
       "      <td>IL_8194852</td>\n",
       "      <td>True</td>\n",
       "      <td>male</td>\n",
       "    </tr>\n",
       "  </tbody>\n",
       "</table>\n",
       "</div>"
      ],
      "text/plain": [
       "        isic_id                                        attribution  \\\n",
       "0  ISIC_0024306  ViDIR Group, Department of Dermatology, Medica...   \n",
       "1  ISIC_0024307  ViDIR Group, Department of Dermatology, Medica...   \n",
       "2  ISIC_0024308  ViDIR Group, Department of Dermatology, Medica...   \n",
       "3  ISIC_0024309  ViDIR Group, Department of Dermatology, Medica...   \n",
       "4  ISIC_0024310  ViDIR Group, Department of Dermatology, Medica...   \n",
       "\n",
       "  copyright_license  age_approx anatom_site_general benign_malignant  \\\n",
       "0          CC-BY-NC        45.0                 NaN           benign   \n",
       "1          CC-BY-NC        50.0     lower extremity           benign   \n",
       "2          CC-BY-NC        55.0                 NaN           benign   \n",
       "3          CC-BY-NC        40.0                 NaN           benign   \n",
       "4          CC-BY-NC        60.0      anterior torso        malignant   \n",
       "\n",
       "   concomitant_biopsy diagnosis            diagnosis_confirm_type  \\\n",
       "0               False     nevus  serial imaging showing no change   \n",
       "1               False     nevus  serial imaging showing no change   \n",
       "2               False     nevus  serial imaging showing no change   \n",
       "3               False     nevus  serial imaging showing no change   \n",
       "4                True  melanoma                    histopathology   \n",
       "\n",
       "    image_type   lesion_id  melanocytic     sex  \n",
       "0  dermoscopic  IL_7252831         True    male  \n",
       "1  dermoscopic  IL_6125741         True    male  \n",
       "2  dermoscopic  IL_3692653         True  female  \n",
       "3  dermoscopic  IL_0959663         True    male  \n",
       "4  dermoscopic  IL_8194852         True    male  "
      ]
     },
     "execution_count": 6,
     "metadata": {},
     "output_type": "execute_result"
    }
   ],
   "source": [
    "import pandas as pd\n",
    "\n",
    "file_path = r\"metadata.csv\"\n",
    "data = pd.read_csv(file_path)\n",
    "\n",
    "# verify the data\n",
    "data.head()\n"
   ]
  },
  {
   "cell_type": "code",
   "execution_count": 7,
   "metadata": {},
   "outputs": [],
   "source": [
    "import os\n",
    "from PIL import Image\n",
    "import numpy as np\n",
    "\n",
    "image_folder = 'ISIC-images/'\n",
    "\n",
    "# Function to load and preprocess an image\n",
    "def load_image(image_id, target_size=(128, 128)):\n",
    "    image_path = os.path.join(image_folder, f'{image_id}.jpg')\n",
    "    img = Image.open(image_path).resize(target_size)\n",
    "    # Normalize the image\n",
    "    img = np.array(img) / 255.0  \n",
    "    return img\n",
    "\n",
    "# Apply the function to all image IDs in the CSV\n",
    "image_data = []\n",
    "for image_id in data['isic_id']:\n",
    "    try:\n",
    "        img = load_image(image_id)\n",
    "        image_data.append(img)\n",
    "    except FileNotFoundError:\n",
    "        print(f\"Image {image_id} not found\")\n",
    "\n",
    "# Convert to a NumPy array\n",
    "X_images = np.array(image_data)\n",
    "\n"
   ]
  },
  {
   "cell_type": "code",
   "execution_count": 8,
   "metadata": {},
   "outputs": [
    {
     "data": {
      "text/plain": [
       "((7032, 128, 128, 3), (2344, 128, 128, 3), (2344, 128, 128, 3))"
      ]
     },
     "execution_count": 8,
     "metadata": {},
     "output_type": "execute_result"
    }
   ],
   "source": [
    "# Labels are in the 'melanocytic' column\n",
    "y_labels = data['melanocytic'].values\n",
    "\n",
    "# Split the dataset into training, validation, and test sets\n",
    "from sklearn.model_selection import train_test_split\n",
    "\n",
    "X_train, X_temp, y_train, y_temp = train_test_split(X_images, y_labels, test_size=0.4, random_state=42)\n",
    "X_val, X_test, y_val, y_test = train_test_split(X_temp, y_temp, test_size=0.5, random_state=42)\n",
    "\n",
    "X_train.shape, X_val.shape, X_test.shape\n"
   ]
  },
  {
   "cell_type": "code",
   "execution_count": 4,
   "metadata": {},
   "outputs": [
    {
     "name": "stderr",
     "output_type": "stream",
     "text": [
      "2024-09-10 22:26:50.646936: E external/local_xla/xla/stream_executor/cuda/cuda_fft.cc:485] Unable to register cuFFT factory: Attempting to register factory for plugin cuFFT when one has already been registered\n",
      "2024-09-10 22:26:50.718177: E external/local_xla/xla/stream_executor/cuda/cuda_dnn.cc:8454] Unable to register cuDNN factory: Attempting to register factory for plugin cuDNN when one has already been registered\n",
      "2024-09-10 22:26:50.740467: E external/local_xla/xla/stream_executor/cuda/cuda_blas.cc:1452] Unable to register cuBLAS factory: Attempting to register factory for plugin cuBLAS when one has already been registered\n",
      "2024-09-10 22:26:50.850349: I tensorflow/core/platform/cpu_feature_guard.cc:210] This TensorFlow binary is optimized to use available CPU instructions in performance-critical operations.\n",
      "To enable the following instructions: AVX2 FMA, in other operations, rebuild TensorFlow with the appropriate compiler flags.\n",
      "2024-09-10 22:26:52.262590: W tensorflow/compiler/tf2tensorrt/utils/py_utils.cc:38] TF-TRT Warning: Could not find TensorRT\n"
     ]
    }
   ],
   "source": [
    "from tensorflow import keras\n",
    "from tensorflow.keras.models import Sequential\n",
    "from tensorflow.keras.layers import Dense, Flatten\n",
    "from tensorflow.keras.layers import Conv2D, MaxPooling2D\n",
    "from tensorflow.keras.models import Sequential\n",
    "from tensorflow.keras.layers import Flatten, Dense\n",
    "\n",
    "# image-based model with fully connected layers\n",
    "def build_image_model():\n",
    "    model = Sequential()\n",
    "    \n",
    "    # Flatten the image input (128x128x3) into a 1D vector\n",
    "    model.add(Flatten(input_shape=(128, 128, 3)))\n",
    "    \n",
    "    # Add a few fully connected (dense) layers\n",
    "    model.add(Dense(512, activation='relu'))  # First dense layer\n",
    "    model.add(Dense(256, activation='relu'))  # Second dense layer\n",
    "    model.add(Dense(128, activation='relu'))  # Third dense layer\n",
    "\n",
    "    # Output layer for binary classification\n",
    "    model.add(Dense(1, activation='sigmoid'))  # Sigmoid for binary classification\n",
    "    \n",
    "    # Compile the model\n",
    "    model.compile(optimizer='adam', loss='binary_crossentropy', metrics=['accuracy'])\n",
    "    \n",
    "    return model\n",
    "\n"
   ]
  },
  {
   "cell_type": "code",
   "execution_count": 5,
   "metadata": {},
   "outputs": [
    {
     "name": "stdout",
     "output_type": "stream",
     "text": [
      "Trial 28 Complete [00h 00m 26s]\n",
      "val_accuracy: 0.770477831363678\n",
      "\n",
      "Best val_accuracy So Far: 0.8263651728630066\n",
      "Total elapsed time: 02h 47m 43s\n"
     ]
    }
   ],
   "source": [
    "import keras_tuner as kt\n",
    "from tensorflow.keras.layers import Flatten, Dense\n",
    "from tensorflow.keras.models import Sequential\n",
    "\n",
    "# Function to build the model for hyperparameter tuning\n",
    "def build_tuner_model(hp):\n",
    "    model = Sequential()\n",
    "\n",
    "    # Flatten the image input (128x128x3) into a 1D vector\n",
    "    model.add(Flatten(input_shape=(128, 128, 3)))\n",
    "    \n",
    "    # Tune the number of dense layers (1 to 4)\n",
    "    for i in range(hp.Int('num_dense_layers', 1, 4)):\n",
    "        # Tune the number of units in each Dense layer (between 32 and 512)\n",
    "        hp_units = hp.Int(f'units_{i}', min_value=32, max_value=512, step=32)\n",
    "        model.add(Dense(units=hp_units, activation='relu'))\n",
    "    \n",
    "    # binary classification\n",
    "    model.add(Dense(1, activation='sigmoid'))\n",
    "    \n",
    "    # Tune the learning rate\n",
    "    hp_learning_rate = hp.Choice('learning_rate', values=[1e-2, 1e-3, 1e-4])\n",
    "    model.compile(optimizer=keras.optimizers.Adam(learning_rate=hp_learning_rate),\n",
    "                  loss='binary_crossentropy', metrics=['accuracy'])\n",
    "    \n",
    "    return model\n",
    "\n",
    "# Initialize the tuner\n",
    "tuner = kt.Hyperband(build_tuner_model,\n",
    "                     objective='val_accuracy',\n",
    "                     max_epochs=20,\n",
    "                     factor=3,\n",
    "                     directory='tuner_dir',\n",
    "                     project_name='melanocytic_classification_fine_tuning')\n",
    "\n",
    "# Perform the hyperparameter search\n",
    "tuner.search(X_train, y_train, epochs=10, validation_data=(X_val, y_val), batch_size=32)\n",
    "\n"
   ]
  },
  {
   "cell_type": "code",
   "execution_count": 6,
   "metadata": {},
   "outputs": [
    {
     "name": "stdout",
     "output_type": "stream",
     "text": [
      "Best number of layers: 3\n",
      "Units in dense layer 0: 288\n",
      "Units in dense layer 1: 64\n",
      "Units in dense layer 2: 32\n",
      "Best learning rate: 0.0001\n",
      "Epoch 1/20\n",
      "\u001b[1m220/220\u001b[0m \u001b[32m━━━━━━━━━━━━━━━━━━━━\u001b[0m\u001b[37m\u001b[0m \u001b[1m5s\u001b[0m 14ms/step - accuracy: 0.7513 - loss: 0.5452 - val_accuracy: 0.7722 - val_loss: 0.5387\n",
      "Epoch 2/20\n",
      "\u001b[1m220/220\u001b[0m \u001b[32m━━━━━━━━━━━━━━━━━━━━\u001b[0m\u001b[37m\u001b[0m \u001b[1m1s\u001b[0m 5ms/step - accuracy: 0.7860 - loss: 0.4541 - val_accuracy: 0.8008 - val_loss: 0.4200\n",
      "Epoch 3/20\n",
      "\u001b[1m220/220\u001b[0m \u001b[32m━━━━━━━━━━━━━━━━━━━━\u001b[0m\u001b[37m\u001b[0m \u001b[1m1s\u001b[0m 5ms/step - accuracy: 0.7995 - loss: 0.4268 - val_accuracy: 0.7999 - val_loss: 0.4247\n",
      "Epoch 4/20\n",
      "\u001b[1m220/220\u001b[0m \u001b[32m━━━━━━━━━━━━━━━━━━━━\u001b[0m\u001b[37m\u001b[0m \u001b[1m1s\u001b[0m 5ms/step - accuracy: 0.8083 - loss: 0.4190 - val_accuracy: 0.7986 - val_loss: 0.4266\n",
      "Epoch 5/20\n",
      "\u001b[1m220/220\u001b[0m \u001b[32m━━━━━━━━━━━━━━━━━━━━\u001b[0m\u001b[37m\u001b[0m \u001b[1m1s\u001b[0m 5ms/step - accuracy: 0.8153 - loss: 0.3939 - val_accuracy: 0.7978 - val_loss: 0.4244\n",
      "Epoch 6/20\n",
      "\u001b[1m220/220\u001b[0m \u001b[32m━━━━━━━━━━━━━━━━━━━━\u001b[0m\u001b[37m\u001b[0m \u001b[1m1s\u001b[0m 5ms/step - accuracy: 0.8027 - loss: 0.4300 - val_accuracy: 0.8106 - val_loss: 0.4194\n",
      "Epoch 7/20\n",
      "\u001b[1m220/220\u001b[0m \u001b[32m━━━━━━━━━━━━━━━━━━━━\u001b[0m\u001b[37m\u001b[0m \u001b[1m1s\u001b[0m 5ms/step - accuracy: 0.8112 - loss: 0.3946 - val_accuracy: 0.7009 - val_loss: 0.5762\n",
      "Epoch 8/20\n",
      "\u001b[1m220/220\u001b[0m \u001b[32m━━━━━━━━━━━━━━━━━━━━\u001b[0m\u001b[37m\u001b[0m \u001b[1m1s\u001b[0m 5ms/step - accuracy: 0.8144 - loss: 0.3989 - val_accuracy: 0.7986 - val_loss: 0.4061\n",
      "Epoch 9/20\n",
      "\u001b[1m220/220\u001b[0m \u001b[32m━━━━━━━━━━━━━━━━━━━━\u001b[0m\u001b[37m\u001b[0m \u001b[1m1s\u001b[0m 5ms/step - accuracy: 0.8276 - loss: 0.3831 - val_accuracy: 0.7858 - val_loss: 0.4271\n",
      "Epoch 10/20\n",
      "\u001b[1m220/220\u001b[0m \u001b[32m━━━━━━━━━━━━━━━━━━━━\u001b[0m\u001b[37m\u001b[0m \u001b[1m1s\u001b[0m 5ms/step - accuracy: 0.8265 - loss: 0.3808 - val_accuracy: 0.7799 - val_loss: 0.4357\n",
      "Epoch 11/20\n",
      "\u001b[1m220/220\u001b[0m \u001b[32m━━━━━━━━━━━━━━━━━━━━\u001b[0m\u001b[37m\u001b[0m \u001b[1m1s\u001b[0m 5ms/step - accuracy: 0.8352 - loss: 0.3691 - val_accuracy: 0.8174 - val_loss: 0.3976\n",
      "Epoch 12/20\n",
      "\u001b[1m220/220\u001b[0m \u001b[32m━━━━━━━━━━━━━━━━━━━━\u001b[0m\u001b[37m\u001b[0m \u001b[1m1s\u001b[0m 5ms/step - accuracy: 0.8251 - loss: 0.3855 - val_accuracy: 0.8076 - val_loss: 0.4003\n",
      "Epoch 13/20\n",
      "\u001b[1m220/220\u001b[0m \u001b[32m━━━━━━━━━━━━━━━━━━━━\u001b[0m\u001b[37m\u001b[0m \u001b[1m1s\u001b[0m 5ms/step - accuracy: 0.8231 - loss: 0.3897 - val_accuracy: 0.7811 - val_loss: 0.5027\n",
      "Epoch 14/20\n",
      "\u001b[1m220/220\u001b[0m \u001b[32m━━━━━━━━━━━━━━━━━━━━\u001b[0m\u001b[37m\u001b[0m \u001b[1m1s\u001b[0m 5ms/step - accuracy: 0.8410 - loss: 0.3667 - val_accuracy: 0.8255 - val_loss: 0.3907\n",
      "Epoch 15/20\n",
      "\u001b[1m220/220\u001b[0m \u001b[32m━━━━━━━━━━━━━━━━━━━━\u001b[0m\u001b[37m\u001b[0m \u001b[1m1s\u001b[0m 5ms/step - accuracy: 0.8330 - loss: 0.3751 - val_accuracy: 0.8131 - val_loss: 0.3982\n",
      "Epoch 16/20\n",
      "\u001b[1m220/220\u001b[0m \u001b[32m━━━━━━━━━━━━━━━━━━━━\u001b[0m\u001b[37m\u001b[0m \u001b[1m1s\u001b[0m 5ms/step - accuracy: 0.8364 - loss: 0.3607 - val_accuracy: 0.8191 - val_loss: 0.4010\n",
      "Epoch 17/20\n",
      "\u001b[1m220/220\u001b[0m \u001b[32m━━━━━━━━━━━━━━━━━━━━\u001b[0m\u001b[37m\u001b[0m \u001b[1m1s\u001b[0m 5ms/step - accuracy: 0.8307 - loss: 0.3659 - val_accuracy: 0.8200 - val_loss: 0.3925\n",
      "Epoch 18/20\n",
      "\u001b[1m220/220\u001b[0m \u001b[32m━━━━━━━━━━━━━━━━━━━━\u001b[0m\u001b[37m\u001b[0m \u001b[1m1s\u001b[0m 5ms/step - accuracy: 0.8181 - loss: 0.3846 - val_accuracy: 0.8136 - val_loss: 0.3997\n",
      "Epoch 19/20\n",
      "\u001b[1m220/220\u001b[0m \u001b[32m━━━━━━━━━━━━━━━━━━━━\u001b[0m\u001b[37m\u001b[0m \u001b[1m1s\u001b[0m 5ms/step - accuracy: 0.8293 - loss: 0.3728 - val_accuracy: 0.8153 - val_loss: 0.3968\n",
      "Epoch 20/20\n",
      "\u001b[1m220/220\u001b[0m \u001b[32m━━━━━━━━━━━━━━━━━━━━\u001b[0m\u001b[37m\u001b[0m \u001b[1m1s\u001b[0m 5ms/step - accuracy: 0.8216 - loss: 0.3813 - val_accuracy: 0.8225 - val_loss: 0.3918\n",
      "\u001b[1m74/74\u001b[0m \u001b[32m━━━━━━━━━━━━━━━━━━━━\u001b[0m\u001b[37m\u001b[0m \u001b[1m0s\u001b[0m 3ms/step - accuracy: 0.8259 - loss: 0.3691\n",
      "Final Test Accuracy: 0.8200\n"
     ]
    }
   ],
   "source": [
    "# Get the optimal hyperparameters\n",
    "# Get the optimal hyperparameters\n",
    "best_hps = tuner.get_best_hyperparameters(num_trials=1)[0]\n",
    "\n",
    "# Print the best hyperparameters\n",
    "print(f\"Best number of layers: {best_hps.get('num_dense_layers')}\")\n",
    "for i in range(best_hps.get('num_dense_layers')):\n",
    "    print(f\"Units in dense layer {i}: {best_hps.get(f'units_{i}')}\")\n",
    "print(f\"Best learning rate: {best_hps.get('learning_rate')}\")\n",
    "\n",
    "\n",
    "# Build the final model using the best hyperparameters\n",
    "final_model = tuner.hypermodel.build(best_hps)\n",
    "\n",
    "# Train the final model\n",
    "history = final_model.fit(X_train, y_train, epochs=20, validation_data=(X_val, y_val), batch_size=32)\n",
    "\n",
    "# Evaluate the final model on the test set\n",
    "test_loss, test_accuracy = final_model.evaluate(X_test, y_test)\n",
    "\n",
    "print(f\"Final Test Accuracy: {test_accuracy:.4f}\")\n"
   ]
  },
  {
   "cell_type": "code",
   "execution_count": 7,
   "metadata": {},
   "outputs": [
    {
     "data": {
      "image/png": "[encoded data removed]",
      "text/plain": [
       "<Figure size 640x480 with 1 Axes>"
      ]
     },
     "metadata": {},
     "output_type": "display_data"
    }
   ],
   "source": [
    "import matplotlib.pyplot as plt\n",
    "\n",
    "# Plot training & validation accuracy values\n",
    "plt.plot(history.history['accuracy'])\n",
    "plt.plot(history.history['val_accuracy'])\n",
    "plt.title('Model accuracy')\n",
    "plt.ylabel('Accuracy')\n",
    "plt.xlabel('Epoch')\n",
    "plt.legend(['Train', 'Validation'], loc='upper left')\n",
    "plt.show()\n",
    "\n",
    "# Save the trained model\n",
    "final_model.save('melanocytic_classif_model.keras')\n"
   ]
  },
  {
   "cell_type": "markdown",
   "metadata": {
    "id": "Qsid8DME3hDu"
   },
   "source": [
    "# Parte 2.  Experimentación con libertad de escogencia del tipo de capas\n",
    "\n",
    "1. En esta segunda implementación puede incluir capas tipo CNN y cualquier otra que considere aporta a la solución.\n",
    "1. Deben utilizar **una de estas herramientas** para dar seguimiento a los resultados en el caso de la red neuronal artificial -En caso de desear utilizar otra herramienta muy similar, solo solicite de previo autorización al profesor-:\n",
    "    1. https://www.wandb.com/\n",
    "    1. https://www.comet.ml/site/"
   ]
  },
  {
   "cell_type": "code",
   "execution_count": 9,
   "metadata": {
    "id": "5hobPRNfys9r"
   },
   "outputs": [],
   "source": [
    "from tensorflow.keras.models import Sequential\n",
    "from tensorflow.keras.layers import Conv2D, MaxPooling2D, Flatten, Dense, Dropout, BatchNormalization\n",
    "\n",
    "def build_cnn_model():\n",
    "    model = Sequential()\n",
    "    \n",
    "    # max pooling\n",
    "    model.add(Conv2D(32, (3, 3), activation='relu', input_shape=(128, 128, 3)))\n",
    "    model.add(MaxPooling2D(pool_size=(2, 2)))\n",
    "    \n",
    "    # batch normalization\n",
    "    model.add(Conv2D(64, (3, 3), activation='relu'))\n",
    "    model.add(BatchNormalization())\n",
    "    model.add(MaxPooling2D(pool_size=(2, 2)))\n",
    "    \n",
    "    # Third cnn layer\n",
    "    model.add(Conv2D(128, (3, 3), activation='relu'))\n",
    "    model.add(MaxPooling2D(pool_size=(2, 2)))\n",
    "\n",
    "    # Flatten the feature maps into 1D\n",
    "    model.add(Flatten())\n",
    "    \n",
    "    # Fully connected layer with dropout\n",
    "    model.add(Dense(512, activation='relu'))\n",
    "    model.add(Dropout(0.5))  # Dropout for regularization\n",
    "    \n",
    "    # Output layer for binary classification\n",
    "    model.add(Dense(1, activation='sigmoid'))\n",
    "    \n",
    "    # Compile the model\n",
    "    model.compile(optimizer='adam', loss='binary_crossentropy', metrics=['accuracy'])\n",
    "    \n",
    "    return model\n"
   ]
  },
  {
   "cell_type": "code",
   "execution_count": 13,
   "metadata": {},
   "outputs": [
    {
     "name": "stderr",
     "output_type": "stream",
     "text": [
      "\u001b[1;38;5;214mCOMET WARNING:\u001b[0m To get all data logged automatically, import comet_ml before the following modules: sklearn, keras, tensorflow.\n",
      "\u001b[1;38;5;214mCOMET WARNING:\u001b[0m As you are running in a Jupyter environment, you will need to call `experiment.end()` when finished to ensure all metrics and code are logged before exiting.\n"
     ]
    },
    {
     "name": "stderr",
     "output_type": "stream",
     "text": [
      "\u001b[1;38;5;39mCOMET INFO:\u001b[0m Experiment is live on comet.com https://www.comet.com/chrisarrefall/melanocytic-classification/7af37ec847884dd591ae8ac97adaa528\n",
      "\n",
      "\u001b[1;38;5;39mCOMET INFO:\u001b[0m Couldn't find a Git repository in '/mnt/c/Users/chris/Documents/TEC/Maestria/Semestre_4/deep_learning/Tarea_Programada_1' nor in any parent directory. Set `COMET_GIT_DIRECTORY` if your Git Repository is elsewhere.\n"
     ]
    },
    {
     "ename": "AttributeError",
     "evalue": "'Experiment' object has no attribute 'keras_callback'",
     "output_type": "error",
     "traceback": [
      "\u001b[0;31m---------------------------------------------------------------------------\u001b[0m",
      "\u001b[0;31mAttributeError\u001b[0m                            Traceback (most recent call last)",
      "Cell \u001b[0;32mIn[13], line 17\u001b[0m\n\u001b[1;32m     11\u001b[0m model \u001b[38;5;241m=\u001b[39m build_cnn_model()\n\u001b[1;32m     13\u001b[0m \u001b[38;5;66;03m# Train the model and log results to Comet.ml\u001b[39;00m\n\u001b[1;32m     14\u001b[0m history \u001b[38;5;241m=\u001b[39m model\u001b[38;5;241m.\u001b[39mfit(X_train, y_train, \n\u001b[1;32m     15\u001b[0m                     epochs\u001b[38;5;241m=\u001b[39m\u001b[38;5;241m20\u001b[39m, \n\u001b[1;32m     16\u001b[0m                     validation_data\u001b[38;5;241m=\u001b[39m(X_val, y_val), \n\u001b[0;32m---> 17\u001b[0m                     callbacks\u001b[38;5;241m=\u001b[39m[\u001b[43mexperiment\u001b[49m\u001b[38;5;241;43m.\u001b[39;49m\u001b[43mkeras_callback\u001b[49m()])\n",
      "\u001b[0;31mAttributeError\u001b[0m: 'Experiment' object has no attribute 'keras_callback'"
     ]
    }
   ],
   "source": [
    "from comet_ml import Experiment\n",
    "\n",
    "# Create a Comet experiment\n",
    "experiment = Experiment(\n",
    "    api_key=\"PlpkGnOY9fq5A1vs3IB2p4kZr\",  # Replace with your API key\n",
    "    project_name=\"melanocytic-classification\", \n",
    "    workspace=\"chrisarrefall\"  # Replace with your workspace\n",
    ")\n",
    "\n",
    "# Build the CNN model\n",
    "model = build_cnn_model()\n",
    "\n",
    "# Train the model and log results to Comet.ml\n",
    "history = model.fit(X_train, y_train, \n",
    "                    epochs=20, \n",
    "                    validation_data=(X_val, y_val), \n",
    "                    callbacks=[experiment.keras_callback()])\n"
   ]
  },
  {
   "cell_type": "code",
   "execution_count": null,
   "metadata": {},
   "outputs": [],
   "source": [
    "# Evaluate on test set\n",
    "test_loss, test_accuracy = model.evaluate(X_test, y_test)\n",
    "\n",
    "# Log final test accuracy\n",
    "experiment.log_metric('Test Accuracy', test_accuracy)\n",
    "\n",
    "print(f\"Final Test Accuracy: {test_accuracy:.4f}\")\n"
   ]
  },
  {
   "cell_type": "code",
   "execution_count": null,
   "metadata": {},
   "outputs": [],
   "source": [
    "# Plot training & validation accuracy values\n",
    "plt.plot(history.history['accuracy'], label='Train Accuracy')\n",
    "plt.plot(history.history['val_accuracy'], label='Validation Accuracy')\n",
    "plt.title('Model Accuracy')\n",
    "plt.ylabel('Accuracy')\n",
    "plt.xlabel('Epoch')\n",
    "plt.legend(loc='upper left')\n",
    "plt.show()\n",
    "\n",
    "# Plot training & validation loss values\n",
    "plt.plot(history.history['loss'], label='Train Loss')\n",
    "plt.plot(history.history['val_loss'], label='Validation Loss')\n",
    "plt.title('Model Loss')\n",
    "plt.ylabel('Loss')\n",
    "plt.xlabel('Epoch')\n",
    "plt.legend(loc='upper right')\n",
    "plt.show()"
   ]
  },
  {
   "cell_type": "code",
   "execution_count": 11,
   "metadata": {},
   "outputs": [
    {
     "data": {
      "text/html": [
       "Tracking run with wandb version 0.18.0"
      ],
      "text/plain": [
       "<IPython.core.display.HTML object>"
      ]
     },
     "metadata": {},
     "output_type": "display_data"
    },
    {
     "data": {
      "text/html": [
       "Run data is saved locally in <code>/mnt/c/Users/chris/Documents/TEC/Maestria/Semestre_4/deep_learning/Tarea_Programada_1/wandb/run-20240914_173255-m48zpdlz</code>"
      ],
      "text/plain": [
       "<IPython.core.display.HTML object>"
      ]
     },
     "metadata": {},
     "output_type": "display_data"
    },
    {
     "data": {
      "text/html": [
       "Syncing run <strong><a href='https://wandb.ai/chrisarrefall-tecnologico-de-costa-rica/uncategorized/runs/m48zpdlz' target=\"_blank\">zany-forest-1</a></strong> to <a href='https://wandb.ai/chrisarrefall-tecnologico-de-costa-rica/uncategorized' target=\"_blank\">Weights & Biases</a> (<a href='https://wandb.me/run' target=\"_blank\">docs</a>)<br/>"
      ],
      "text/plain": [
       "<IPython.core.display.HTML object>"
      ]
     },
     "metadata": {},
     "output_type": "display_data"
    },
    {
     "data": {
      "text/html": [
       " View project at <a href='https://wandb.ai/chrisarrefall-tecnologico-de-costa-rica/uncategorized' target=\"_blank\">https://wandb.ai/chrisarrefall-tecnologico-de-costa-rica/uncategorized</a>"
      ],
      "text/plain": [
       "<IPython.core.display.HTML object>"
      ]
     },
     "metadata": {},
     "output_type": "display_data"
    },
    {
     "data": {
      "text/html": [
       " View run at <a href='https://wandb.ai/chrisarrefall-tecnologico-de-costa-rica/uncategorized/runs/m48zpdlz' target=\"_blank\">https://wandb.ai/chrisarrefall-tecnologico-de-costa-rica/uncategorized/runs/m48zpdlz</a>"
      ],
      "text/plain": [
       "<IPython.core.display.HTML object>"
      ]
     },
     "metadata": {},
     "output_type": "display_data"
    }
   ],
   "source": [
    "import wandb\n",
    "run = wandb.init()\n",
    "run.log({\"test\":123})\n",
    "run.finish()"
   ]
  },
  {
   "cell_type": "markdown",
   "metadata": {
    "id": "IUX2-k2Zypfc"
   },
   "source": [
    "##Criterios de evaluación:\n",
    "1. Deben presentar una implementación completa para la Parte 1 y para la Parte 2, en una de estas opciones: pytorch, tensorflow o keras (Claro que pueden usar numpy, pandas y otras bibliotecas más, para todo el tema de carga del dataset, analizarlo y pre-procesarlo). (**30 puntos cada una (total 60 ))**\n",
    "1. Uso de herramienta de seguimiento de resultados. (**10 puntos**)\n",
    "1. Uso de herramienta de selección de hiperparámetros. (**10 puntos**)\n",
    "1. Documentación de decisiones en celdas de texto y comentarios al código. (**10 puntos**)\n",
    "1. Conclusiones finales: En una celda de texto al final del cuaderno, incluya sus conclusiones más importantes de los experimentos y algunos de los gráficos que genera la herramienta seleccionada, junto con su interpretación de los mismos. (**10 puntos**)"
   ]
  }
 ],
 "metadata": {
  "accelerator": "GPU",
  "colab": {
   "gpuType": "T4",
   "provenance": []
  },
  "kernelspec": {
   "display_name": "Python 3 (ipykernel)",
   "language": "python",
   "name": "python3"
  },
  "language_info": {
   "codemirror_mode": {
    "name": "ipython",
    "version": 3
   },
   "file_extension": ".py",
   "mimetype": "text/x-python",
   "name": "python",
   "nbconvert_exporter": "python",
   "pygments_lexer": "ipython3",
   "version": "3.9.5"
  }
 },
 "nbformat": 4,
 "nbformat_minor": 4
}
